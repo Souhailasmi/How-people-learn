{
 "cells": [
  {
   "cell_type": "code",
   "execution_count": 1,
   "metadata": {},
   "outputs": [
    {
     "data": {
      "text/html": [
       "        <script type=\"text/javascript\">\n",
       "        window.PlotlyConfig = {MathJaxConfig: 'local'};\n",
       "        if (window.MathJax) {MathJax.Hub.Config({SVG: {font: \"STIX-Web\"}});}\n",
       "        if (typeof require !== 'undefined') {\n",
       "        require.undef(\"plotly\");\n",
       "        requirejs.config({\n",
       "            paths: {\n",
       "                'plotly': ['https://cdn.plot.ly/plotly-latest.min']\n",
       "            }\n",
       "        });\n",
       "        require(['plotly'], function(Plotly) {\n",
       "            window._Plotly = Plotly;\n",
       "        });\n",
       "        }\n",
       "        </script>\n",
       "        "
      ]
     },
     "metadata": {},
     "output_type": "display_data"
    }
   ],
   "source": [
    "import numpy as np\n",
    "import sympy as sp\n",
    "from IPython.display import display, Latex\n",
    "from Ch7Functions import *"
   ]
  },
  {
   "cell_type": "markdown",
   "metadata": {},
   "source": [
    "### RAPPEL:\n",
    "Soit $A=(a_{ij})\\in M_{n\\times n}(\\mathbb{R})$ une matrice de taille $n\\times n$ à coefficients réels. Pour $1\\leq i,j\\leq n,$ on définit $\\hat{A}_{ij}$ comme étant la matrice de taille $(n-1)\\times (n-1)$ obtenue en supprimant dans $A$ la $i$-ème ligne et la $j$-ème colonne. \n",
    "\n",
    "### DÉFINITION:\n",
    "Soit $A=(a_{ij})\\in M_{n\\times n}(\\mathbb{R})$ une matrice de taille $n\\times n$ à coefficients réels. La matrice des cofacteurs de $A$  est la matrice $\\mbox{cof} A\\in M_{n \\times n}(\\mathbb{R})$ de taille $(n-1)\\times (n-1)$ définie par\n",
    "$$(\\mbox{cof}A)_{ij}=(-1)^{i+j}\\mbox{det}\\hat{A}_{ij}=C_{ij}$$\n",
    "\n",
    "\n",
    "### THÉORÈME:\n",
    "Soit $A=(a_{ij})\\in M_{n\\times n}(\\mathbb{R})$ une matrice inversible. Alors\n",
    "$$A^{-1} = \\dfrac{1}{\\mbox{det}A}\\cdot (\\mbox{cof}A)^T$$\n",
    "\n"
   ]
  },
  {
   "cell_type": "markdown",
   "metadata": {},
   "source": [
    "\n",
    "#### Exercise : Trouver la matrice inverse de  $A_{3 \\times 3}$.\n",
    "\n",
    "$$ A = \\left[\\begin{matrix}2 & 1 & 1\\\\1 & -1 & 1\\\\ -1 & 1 & 2\\end{matrix}\\right] $$\n"
   ]
  },
  {
   "cell_type": "code",
   "execution_count": 2,
   "metadata": {},
   "outputs": [
    {
     "data": {
      "text/latex": [
       "$\\mathbf{Solution:}$ Les neuf cofacteurs sont"
      ],
      "text/plain": [
       "<IPython.core.display.Latex object>"
      ]
     },
     "metadata": {},
     "output_type": "display_data"
    },
    {
     "data": {
      "text/latex": [
       "$C_{11} = \\left|\\begin{matrix}-1 & 1\\\\1 & -2\\end{matrix}\\right| = 1\\qquad C_{12} = -\\left|\\begin{matrix}1 & 1\\\\-1 & -2\\end{matrix}\\right| = 1\\qquad C_{13} = +\\left|\\begin{matrix}1 & -1\\\\-1 & 1\\end{matrix}\\right| = 0$"
      ],
      "text/plain": [
       "<IPython.core.display.Latex object>"
      ]
     },
     "metadata": {},
     "output_type": "display_data"
    },
    {
     "data": {
      "text/latex": [
       "$C_{21} = -\\left|\\begin{matrix}1 & 1\\\\1 & -2\\end{matrix}\\right| = 3\\qquad C_{22} = +\\left|\\begin{matrix}2 & 1\\\\-1 & -2\\end{matrix}\\right| = -3\\qquad C_{23} = -\\left|\\begin{matrix}2 & 1\\\\-1 & 1\\end{matrix}\\right| = -3$"
      ],
      "text/plain": [
       "<IPython.core.display.Latex object>"
      ]
     },
     "metadata": {},
     "output_type": "display_data"
    },
    {
     "data": {
      "text/latex": [
       "$C_{31} = \\left|\\begin{matrix}1 & 1\\\\-1 & 1\\end{matrix}\\right| = 2\\qquad C_{32} = -\\left|\\begin{matrix}2 & 1\\\\1 & 1\\end{matrix}\\right| = -1\\qquad C_{33} = +\\left|\\begin{matrix}2 & 1\\\\1 & -1\\end{matrix}\\right| = -3$"
      ],
      "text/plain": [
       "<IPython.core.display.Latex object>"
      ]
     },
     "metadata": {},
     "output_type": "display_data"
    },
    {
     "data": {
      "text/latex": [
       "La comatrice de $A$ est la transposée de $A$"
      ],
      "text/plain": [
       "<IPython.core.display.Latex object>"
      ]
     },
     "metadata": {},
     "output_type": "display_data"
    },
    {
     "data": {
      "text/latex": [
       "$\\mbox{adj} A = (\\mbox{cof} A)^T = \\left[\\begin{matrix}1 & 3 & 2\\\\1 & -3 & -1\\\\0 & -3 & -3\\end{matrix}\\right]$"
      ],
      "text/plain": [
       "<IPython.core.display.Latex object>"
      ]
     },
     "metadata": {},
     "output_type": "display_data"
    },
    {
     "data": {
      "text/latex": [
       "On calcule le déterminant de $A$: $det\\ A$"
      ],
      "text/plain": [
       "<IPython.core.display.Latex object>"
      ]
     },
     "metadata": {},
     "output_type": "display_data"
    },
    {
     "data": {
      "text/latex": [
       "$ \\mbox{det} A=\\left|\\begin{matrix}2 & 1 & 1\\\\1 & -1 & 1\\\\-1 & 1 & -2\\end{matrix}\\right|=3$"
      ],
      "text/plain": [
       "<IPython.core.display.Latex object>"
      ]
     },
     "metadata": {},
     "output_type": "display_data"
    },
    {
     "data": {
      "text/latex": [
       "On peut trouver la matrice inverse en utilisant le théorème en haut."
      ],
      "text/plain": [
       "<IPython.core.display.Latex object>"
      ]
     },
     "metadata": {},
     "output_type": "display_data"
    },
    {
     "data": {
      "text/latex": [
       "$A^{-1} = \\dfrac{{1}}{{\\mbox{det} A}}\\cdot  \\mbox{adj} A = \\dfrac{1}{3}\\cdot \\left[\\begin{matrix}1 & 3 & 2\\\\1 & -3 & -1\\\\0 & -3 & -3\\end{matrix}\\right]=\\left[\\begin{matrix}\\frac{1}{3} & 1 & \\frac{2}{3}\\\\\\frac{1}{3} & -1 & - \\frac{1}{3}\\\\0 & -1 & -1\\end{matrix}\\right]$"
      ],
      "text/plain": [
       "<IPython.core.display.Latex object>"
      ]
     },
     "metadata": {},
     "output_type": "display_data"
    }
   ],
   "source": [
    "A = sp.Matrix([[2,1,1],[1,-1,1],[-1,1,-2]])\n",
    "find_inverse_3x3(A)"
   ]
  },
  {
   "cell_type": "code",
   "execution_count": null,
   "metadata": {},
   "outputs": [],
   "source": []
  }
 ],
 "metadata": {
  "kernelspec": {
   "display_name": "Python 3",
   "language": "python",
   "name": "python3"
  },
  "language_info": {
   "codemirror_mode": {
    "name": "ipython",
    "version": 3
   },
   "file_extension": ".py",
   "mimetype": "text/x-python",
   "name": "python",
   "nbconvert_exporter": "python",
   "pygments_lexer": "ipython3",
   "version": "3.7.6"
  }
 },
 "nbformat": 4,
 "nbformat_minor": 4
}
