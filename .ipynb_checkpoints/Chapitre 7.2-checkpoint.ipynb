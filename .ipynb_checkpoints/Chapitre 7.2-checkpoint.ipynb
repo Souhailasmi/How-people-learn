{
 "cells": [
  {
   "cell_type": "code",
   "execution_count": 1,
   "metadata": {},
   "outputs": [],
   "source": [
    "import numpy as np\n",
    "import sympy as sp\n",
    "import sys, os \n",
    "\n",
    "from IPython.display import display, Latex"
   ]
  },
  {
   "cell_type": "markdown",
   "metadata": {},
   "source": [
    "# Les (Properties) charactéristiques des déterminants\n",
    "\n",
    "Dans ce Jupyter Notebook, on va explorer les charactéristiques des déterminants et comment elles peuvent aider à calculer les determinants"
   ]
  },
  {
   "cell_type": "markdown",
   "metadata": {},
   "source": [
    "## Notation\n",
    "\n",
    "En générale, la notation de lignes droites autour des matrices veut dire qu'on prend le déterminant. \n",
    "$$\\det \\left(\\begin{matrix} a & b \\\\ c & d \\end{matrix}\\right) = \\left|\\begin{matrix} a & b \\\\ c & d \\end{matrix}\\right|\n",
    "$$"
   ]
  },
  {
   "cell_type": "markdown",
   "metadata": {},
   "source": [
    "### (Triangular Matrices)\n",
    "\n",
    "Si $A$ est une matrice triangulaire, le déterminant est le produit du diagonal principal de $A$.\n",
    "\n",
    "$$ A = \\left| \\begin{matrix} \n",
    "        a_{11} & a_{12} & a_{13} & a_{14} \\\\\n",
    "        0      & a_{22} & a_{23} & a_{24} \\\\\n",
    "        0      & 0      & a_{33} & a_{34} \\\\\n",
    "        0      & 0      & 0      & a_{44}\n",
    "       \\end{matrix} \\right| \n",
    "       = a_{11}a_{22}a_{33}a_{44}\n",
    "       $$\n",
    "       \n",
    "\n",
    "---"
   ]
  },
  {
   "cell_type": "markdown",
   "metadata": {},
   "source": [
    "### (Row Operations \\ Properties of Determinants)\n"
   ]
  },
  {
   "cell_type": "markdown",
   "metadata": {},
   "source": [
    "Soit $A$ est une matrice carrée \n",
    "\n",
    "Si un multiple d'une rangée de $A$ est ajouté à une autre ligne pour faire la matrice $B$, le déterminant de $B$ est égal au déterminant de $A$\n",
    "$$ \\det B = \\det A $$\n",
    "\n",
    "\n",
    "Si deux rangées de $A$ sont échangées pour faire $B$, le déterminant de $B$ est égal au négatif du déterminant de $A$\n",
    "$$ \\det B = -\\det A $$\n",
    "\n",
    "\n",
    "Si une rangée de $A$ est multipliée par $\\textit{k}$ pour faire $B$, le déterminant de $B$ est le déterminant de $A$ multiplié par $\\textit{k}$.\n",
    "$$ \\det B = \\textit{k} \\cdot \\det A $$\n",
    "\n",
    "---\n",
    "\n",
    "# An example here could be useful"
   ]
  },
  {
   "cell_type": "markdown",
   "metadata": {},
   "source": [
    "### (Invertibility)\n",
    "\n",
    "Si une matrice carrée $A$ est invertible, son déterminant ne peut pas être égal à zéro. $$ (\\det A \\neq 0) $$\n",
    "\n",
    "---\n"
   ]
  },
  {
   "cell_type": "markdown",
   "metadata": {},
   "source": [
    "### Transposes\n",
    "\n",
    "Si $A$ est une $n \\times n$ matrice (carrée), soit $ \\det A^T = \\det A $\n",
    "\n",
    "---"
   ]
  },
  {
   "cell_type": "markdown",
   "metadata": {},
   "source": [
    "### (Property of Multiplicative Property)\n",
    "\n",
    "Si $A$ et $B$ sont deux matrices carrées de taille $ n  \\times n$, le déterminant de $AB$ est le produit des déterminants de $A$ et $B$.\n",
    "$$\\det AB = (\\det A)(\\det B) $$\n",
    "\n",
    "Cependant, ceci n'est pas le cas pour l'addition ou la soustraction de matrices. En générale, $$ \\det (A \\pm B) \\neq \\det A \\pm \\det B $$\n",
    "\n",
    "# Another example here could be useful"
   ]
  },
  {
   "cell_type": "code",
   "execution_count": null,
   "metadata": {},
   "outputs": [],
   "source": []
  }
 ],
 "metadata": {
  "kernelspec": {
   "display_name": "Python 3",
   "language": "python",
   "name": "python3"
  },
  "language_info": {
   "codemirror_mode": {
    "name": "ipython",
    "version": 3
   },
   "file_extension": ".py",
   "mimetype": "text/x-python",
   "name": "python",
   "nbconvert_exporter": "python",
   "pygments_lexer": "ipython3",
   "version": "3.7.6"
  }
 },
 "nbformat": 4,
 "nbformat_minor": 4
}
