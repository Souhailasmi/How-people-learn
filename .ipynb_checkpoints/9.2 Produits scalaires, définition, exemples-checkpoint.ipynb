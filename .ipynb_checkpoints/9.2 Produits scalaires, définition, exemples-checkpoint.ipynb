{
 "cells": [
  {
   "cell_type": "code",
   "execution_count": 1,
   "metadata": {},
   "outputs": [],
   "source": [
    "import numpy as np"
   ]
  },
  {
   "cell_type": "markdown",
   "metadata": {},
   "source": [
    "## 9.2 Produits scalaires, définition, exemples\n",
    "Notions of length, distance, and orthogonality are often important in applications involving a vector space. For $\\mathbb{R}^n$, these concepts were based on the properties of the inner product listed in Theorem1 of Section 6.1. For other spaces, we need analogues of the inner product with the same properties. The conclusions of Theorem 1 now become *axioms* in the following deﬁnition.\n",
    "\n",
    "### DEFINITION\n",
    "An **inner product** on a vector space $V$ is a function that, to each pair of vectors $\\mathbf{u}$ and $\\mathbf{v}$ in $V$, associates a real number $\\langle\\mathbf{u},\\mathbf{v}\\rangle$ and satisﬁes the following axioms, for all $\\mathbf{u}$, $\\mathbf{v}$,and $\\mathbf{w}$ in $V$ and all scalars $c$: \n",
    "\n",
    "$\n",
    "1.\\ \\langle\\mathbf{u},\\mathbf{v}\\rangle = \\langle\\mathbf{v},\\mathbf{u}\\rangle \\\\\n",
    "2.\\ \\langle\\mathbf{u}+\\mathbf{v},\\mathbf{w}\\rangle = \\langle\\mathbf{u},\\mathbf{w}\\rangle+\\langle\\mathbf{v},\\mathbf{w}\\rangle \\\\\n",
    "3.\\ \\langle c\\mathbf{u},\\mathbf{v}\\rangle = c\\langle\\mathbf{u},\\mathbf{v}\\rangle \\\\\n",
    "4.\\ \\langle\\mathbf{u},\\mathbf{u}\\rangle \\ge 0 \\rm{\\quad and \\quad} \\langle\\mathbf{u},\\mathbf{u}\\rangle = 0 \\rm{\\ if\\ and\\ only\\ if\\ } \\mathbf{u} = \\mathbf{0}\n",
    "$\n",
    "\n",
    "A vector space with an inner product is called an **inner product space**.\n"
   ]
  },
  {
   "cell_type": "markdown",
   "metadata": {},
   "source": [
    "The vector space $\\mathbb{R}^n$ with the standard inner product is an inner product space,and nearly everything discussed in this chapter for $\\mathbb{R}^n$ carries over to inner product spaces. The examples in this section and the next lay the foundation for a variety of applications treated in courses in engineering,physics,mathematics,and statistics. "
   ]
  },
  {
   "cell_type": "markdown",
   "metadata": {},
   "source": [
    "### EXAMPLE 1\n",
    "Fix any two positive numbers—say, 4 and 5—and for vectors $\\mathbf{u}= (u_1,u_2)$ and $\\mathbf{v}= (v_1,v_2)$ in $\\mathbb{R}^2$,set\n",
    "$$\n",
    "\\langle\\mathbf{u},\\mathbf{u}\\rangle = 4u_1v_1 + 5u_2v_2\n",
    "\\tag{1}\n",
    "$$\n",
    "Show that equation (1) deﬁnes an inner product.\n",
    "\n",
    "### SOLUTION\n",
    "Certainly Axiom 1 is satisﬁed, because $\\langle\\mathbf{u},\\mathbf{v}\\rangle = 4u_1v_1+5u_2v_2 = 4v_1u_1+5v_2u_2 = \\langle\\mathbf{v},\\mathbf{u}\\rangle$.If $\\mathbf{w} = (w_1,w_2)$, then\n",
    "$$\n",
    "\\begin{aligned}\n",
    "\\langle\\mathbf{u}+\\mathbf{v},\\mathbf{w}\\rangle &=  4(u_1+v_1)w_1+5(u_2+v_2)w_2 \\\\\n",
    "&= 4u_1w_1+5u_2w_2+4v_1w_1+5v_2w_2 \\\\ \n",
    "&= \\langle\\mathbf{u},\\mathbf{w}\\rangle+\\langle\\mathbf{v},\\mathbf{w}\\rangle\n",
    "\\end{aligned}\n",
    "$$\n",
    "\n",
    "This veriﬁes Axiom 2. For Axiom 3,compute\n",
    "$$\n",
    "\\langle c\\mathbf{u},\\mathbf{v}\\rangle = 4(cu_1)v_1+5(cu_2)v_2 = c(4u_1v_1+5u_2v_2) = c\\langle\\mathbf{u},\\mathbf{v}\\rangle\n",
    "$$\n",
    "\n",
    "For Axiom 4,note that $\\langle\\mathbf{u},\\mathbf{u}\\rangle = 4u_1^2+5u_2^2 \\ge 0$, and $4u_1^2+5u_2^2 = 0$ only if $u_1=u_2=0$, that is, if $\\mathbf{u}=\\mathbf{0}$. Also, $\\langle\\mathbf{0},\\mathbf{0}\\rangle = 0$. So (1) defines an inner product on $\\mathbb{R}^2$."
   ]
  },
  {
   "cell_type": "markdown",
   "metadata": {},
   "source": [
    "Inner products similar to (1) can be deﬁned on $\\mathbb{R}^n$. They arise naturally in connection with “weighted least-squares” problems,in which weights are assigned to the various entries in the sum for the inner product in such a way that more importance is given to the more reliable measurements.\n",
    "\n",
    "From now on, when an inner product space involves polynomials or other functions, we will write the functions in the familiar way, rather than use the boldface type for vectors. Nevertheless, it is important to remember that each function is a vector when it is treated as an element of a vector space."
   ]
  },
  {
   "cell_type": "markdown",
   "metadata": {},
   "source": [
    "### EXAMPLE 2\n",
    "Let $t_0, \\cdots, t_n$ be distinct real numbers. For $p$ and $q$ in $\\mathbb{P}_n$, define\n",
    "$$\n",
    "\\langle p, q \\rangle = p(t_0)q(t_0)+p(t_1)q(t_1)+\\cdots+p(t_n)q(t_n)\n",
    "\\tag{2}\n",
    "$$\n",
    "Inner product Axioms 1–3 are readily checked. For Axiom 4,note that \n",
    "$$\n",
    "\\langle p, p \\rangle = [p(t_0)]^2+[p(t_1)]^2+\\cdots+[p(t_n)]^2 \\ge 0\n",
    "$$\n",
    "\n",
    "Also, $\\langle\\mathbf{0},\\mathbf{0}\\rangle = 0$.(The boldface zero here denotes the zero polynomial,the zero vector in $\\mathbb{P}_n$.)If $\\langle p, p \\rangle = 0$, then $p$ must vanish at $n+1$ points: $t_0, \\cdots, t_n$. This is possible only if $p$ is the zero polynomial, because the degree of $p$ is less than $n+1$. Thus (2) deﬁnes an inner product on $\\mathbb{P}_n$."
   ]
  }
 ],
 "metadata": {
  "kernelspec": {
   "display_name": "Python 3",
   "language": "python",
   "name": "python3"
  },
  "language_info": {
   "codemirror_mode": {
    "name": "ipython",
    "version": 3
   },
   "file_extension": ".py",
   "mimetype": "text/x-python",
   "name": "python",
   "nbconvert_exporter": "python",
   "pygments_lexer": "ipython3",
   "version": "3.7.6"
  }
 },
 "nbformat": 4,
 "nbformat_minor": 4
}
