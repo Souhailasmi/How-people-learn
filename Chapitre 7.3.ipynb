{
 "cells": [
  {
   "cell_type": "code",
   "execution_count": 1,
   "metadata": {},
   "outputs": [
    {
     "data": {
      "text/html": [
       "        <script type=\"text/javascript\">\n",
       "        window.PlotlyConfig = {MathJaxConfig: 'local'};\n",
       "        if (window.MathJax) {MathJax.Hub.Config({SVG: {font: \"STIX-Web\"}});}\n",
       "        if (typeof require !== 'undefined') {\n",
       "        require.undef(\"plotly\");\n",
       "        requirejs.config({\n",
       "            paths: {\n",
       "                'plotly': ['https://cdn.plot.ly/plotly-latest.min']\n",
       "            }\n",
       "        });\n",
       "        require(['plotly'], function(Plotly) {\n",
       "            window._Plotly = Plotly;\n",
       "        });\n",
       "        }\n",
       "        </script>\n",
       "        "
      ]
     },
     "metadata": {},
     "output_type": "display_data"
    }
   ],
   "source": [
    "import numpy as np\n",
    "import sympy as sp\n",
    "import sys, os \n",
    "from Ch7Functions import *\n",
    "from IPython.display import display, Latex"
   ]
  },
  {
   "cell_type": "markdown",
   "metadata": {},
   "source": [
    "### PROPOSITION :\n",
    "\n",
    "#### Si $A=(a_{ij})\\in M_{n\\times n}(\\mathbb{R})$. Alors $A$ est inversible si et seulement si $\\det A \\neq 0$.\n",
    "\n",
    "Ce théorème ajoute à la déclaration “$\\det A \\neq 0$” au théorème de la matrice inversible. C'est aussi utile de savoir que si \n",
    "$\\det A = 0$, ça veut dire que les colonnes de $A$ sont dépandantes linéairement. Ainsi que quand $\\det A = 0$, les rangées de $A$ sont dépandantes linéairement. (Les rangées de $A$ sont les colonnes de $A^T$, et des colonnes dépandantes linéairement cause $A^T$ d'être singulièreé\n",
    "\n",
    "On peut dire que quand $A^T$ est singulière, $A$ est singulière aussi grace au théorème de la matrice inversible. Généralement, dépandance linéaire se présente quand il y a deux rangées indentiques, deux colonnes identiques ou une rangée de zéros. \n",
    "\n",
    "\n",
    "\n",
    " \n"
   ]
  },
  {
   "cell_type": "markdown",
   "metadata": {},
   "source": [
    "#### Exemple :  Calculez $det A$, quand $A = \\begin{pmatrix}\n",
    "3 & -1 &  2  & -5\\\\\n",
    "0 & 5 &-3 & -6\\\\\n",
    "-6 & 7 & -7 & 4\\\\\n",
    "-5 & -8 & 0 & 9\n",
    "\\end{pmatrix}$\n",
    "\n",
    "\n",
    "**SOLUTION** Ajoutez deux fois la rangée 1 à la rangée 3\n",
    "\n",
    "\n",
    "\n",
    "$$ \\det A = \\det \\begin{pmatrix}\n",
    "3 & -1 &  2  & -5\\\\\n",
    "0 & 5 &-3 & -6\\\\\n",
    "0 & 5 &-3 & -6\\\\\n",
    "-5 & -8 & 0 & 9\n",
    "\\end{pmatrix} = 0 $$ \n",
    "\n",
    "$\\det A = 0$ alors la matrice $A$ est singulière, parce que la deuxième rangée et la troisième rangée sont égales.\n",
    "\n",
    "#### Exercise :  Jugez si la matrice A is inversible par calculer son déterminant.\n"
   ]
  },
  {
   "cell_type": "code",
   "execution_count": 2,
   "metadata": {},
   "outputs": [
    {
     "data": {
      "text/latex": [
       "$\\det A=\\det\\left[\\begin{matrix}1 & 2 & 0.75\\\\0.5 & 2.0 & 4\\\\1 & 6 & 43\\end{matrix}\\right]=k \\cdot\\det\\left[\\begin{matrix}1 & 0 & 0\\\\0 & 1 & 0\\\\0 & 0 & 1\\end{matrix}\\right]= k \\cdot1.000=27.75$"
      ],
      "text/plain": [
       "<IPython.core.display.Latex object>"
      ]
     },
     "metadata": {},
     "output_type": "display_data"
    },
    {
     "data": {
      "text/latex": [
       "Où $k$ est une constante  qui n'est pas égale à zéro. "
      ],
      "text/plain": [
       "<IPython.core.display.Latex object>"
      ]
     },
     "metadata": {},
     "output_type": "display_data"
    },
    {
     "data": {
      "text/latex": [
       "$\\det A $ n'est pas égal à zéro, donc la matrice $A$ est inversible."
      ],
      "text/plain": [
       "<IPython.core.display.Latex object>"
      ]
     },
     "metadata": {},
     "output_type": "display_data"
    }
   ],
   "source": [
    "A = sp.Matrix([[1,2,3/4], [0.5,20/10,4], [1,6,43]])\n",
    "\n",
    "whether_invertible(A)\n"
   ]
  }
 ],
 "metadata": {
  "kernelspec": {
   "display_name": "Python 3",
   "language": "python",
   "name": "python3"
  },
  "language_info": {
   "codemirror_mode": {
    "name": "ipython",
    "version": 3
   },
   "file_extension": ".py",
   "mimetype": "text/x-python",
   "name": "python",
   "nbconvert_exporter": "python",
   "pygments_lexer": "ipython3",
   "version": "3.7.6"
  }
 },
 "nbformat": 4,
 "nbformat_minor": 2
}
