{
 "cells": [
  {
   "cell_type": "markdown",
   "metadata": {},
   "source": [
    "### DEFINITION\n",
    "\n",
    "Two vectors $\\mathbf{u}$ and $\\mathbf{v}$ in $\\mathbb{R}^n$ are **orthogonal** (to each other) if $\\mathbf{u} \\cdot \\mathbf{v} = 0$.\n",
    "\n",
    "Observe that the zero vector is orthogonal to every vector in $\\mathbb{R}_n$ because $\\mathbf{0}^T \\mathbf{v} = 0$ for all $\\mathbf{v}$."
   ]
  },
  {
   "cell_type": "markdown",
   "metadata": {},
   "source": [
    "#### THEOREM: The Pythagorean Theorem\n",
    "\n",
    "Two vectors $\\mathbf{u}$ and $\\mathbf{v}$ are orthogonal if and only if $\\|\\mathbf{u}+\\mathbf{v}\\|^2 = \\|\\mathbf{u}\\|^2 + \\|\\mathbf{v}\\|^2$."
   ]
  },
  {
   "cell_type": "markdown",
   "metadata": {},
   "source": [
    "#### THEOREM: The Triangle Inequality\n",
    "\n",
    "For all $\\mathbf{u}$, $\\mathbf{v}$ in $V$,\n",
    "$$\n",
    "\\|\\mathbf{u}+\\mathbf{v}\\| \\le \\|\\mathbf{u}\\| + \\|\\mathbf{v}\\|\n",
    "$$\n",
    "\n",
    "#### PROOF\n",
    "\n",
    "$$\n",
    "\\begin{aligned}\n",
    "\\|\\mathbf{u} + \\mathbf{v}\\|^2 &= \\langle \\mathbf{u}+\\mathbf{v}, \\mathbf{u}+\\mathbf{v} \\rangle = \\langle \\mathbf{u}, \\mathbf{u} \\rangle + 2\\langle \\mathbf{u}, \\mathbf{v} \\rangle + \\langle \\mathbf{v}, \\mathbf{v} \\rangle \\\\\n",
    "&\\le \\|\\mathbf{u}\\|^2 + 2|\\langle \\mathbf{u}, \\mathbf{v} \\rangle | + \\|\\mathbf{v}\\|^2 \\\\\n",
    "&\\le \\|\\mathbf{u}\\|^2 + 2\\|\\mathbf{u}\\|\\|\\mathbf{v}\\| + \\|\\mathbf{v}\\|^2 \\qquad \\rm{Cauchy-Schwarz}\\\\\n",
    "&= (\\|\\mathbf{u}\\| + \\|\\mathbf{v}\\|)^2\n",
    "\\end{aligned}\n",
    "$$\n",
    "\n",
    "The triangle inequality follows immediately by taking square roots of both sides."
   ]
  },
  {
   "cell_type": "code",
   "execution_count": 1,
   "metadata": {},
   "outputs": [],
   "source": [
    "import matplotlib.pyplot as plt\n",
    "\n",
    "def plot_vec(u, v):\n",
    "    \n",
    "    x = [0,0,0,u[0]]\n",
    "    y = [0,0,0,u[1]]\n",
    "    vec_x = [u[0],v[0],u[0]+v[0],v[0]]\n",
    "    vec_y = [u[1],v[1],u[1]+v[1],v[1]]\n",
    "    plt.figure()\n",
    "    plt.axis('square')\n",
    "    plt.quiver(x,y,vec_x,vec_y,angles='xy',scale_units='xy',scale=1)\n",
    "    plt.xlim([min(0,u[0],v[0],u[0]+v[0],u[1],v[1],u[1]+v[1]),max(0,u[0],v[0],u[0]+v[0],u[1],v[1],u[1]+v[1])])\n",
    "    plt.ylim([min(0,u[1],v[1],u[1]+v[1],u[0],v[0],u[0]+v[0]),max(0,u[1],v[1],u[1]+v[1],u[0],v[0],u[0]+v[0])])\n",
    "    plt.text(u[0],u[1],r'$\\|\\|\\mathbf{u}\\|\\|$',fontsize=15)\n",
    "    plt.text(v[0],v[1],r'$\\|\\|\\mathbf{v}\\|\\|$',fontsize=15)\n",
    "    plt.text(u[0]+v[0]/2,u[1]+v[1]/2,r'$\\|\\|\\mathbf{v}\\|\\|$',fontsize=15)\n",
    "    plt.text(u[0]/2+v[0]/2,u[1]/2+v[1]/2,r'$\\|\\|\\mathbf{u}+\\mathbf{v}\\|\\|$',fontsize=15)\n",
    "    plt.grid()\n",
    "    plt.draw()\n",
    "    plt.show()"
   ]
  },
  {
   "cell_type": "code",
   "execution_count": 2,
   "metadata": {},
   "outputs": [
    {
     "data": {
      "image/png": "[encoded data removed]",
      "text/plain": [
       "<Figure size 432x288 with 1 Axes>"
      ]
     },
     "metadata": {
      "needs_background": "light"
     },
     "output_type": "display_data"
    }
   ],
   "source": [
    "u = (2, 1)\n",
    "v = (-0.5, 3)\n",
    "plot_vec(u, v)"
   ]
  },
  {
   "cell_type": "code",
   "execution_count": null,
   "metadata": {},
   "outputs": [],
   "source": []
  }
 ],
 "metadata": {
  "kernelspec": {
   "display_name": "Python 3",
   "language": "python",
   "name": "python3"
  },
  "language_info": {
   "codemirror_mode": {
    "name": "ipython",
    "version": 3
   },
   "file_extension": ".py",
   "mimetype": "text/x-python",
   "name": "python",
   "nbconvert_exporter": "python",
   "pygments_lexer": "ipython3",
   "version": "3.7.4"
  }
 },
 "nbformat": 4,
 "nbformat_minor": 4
}
