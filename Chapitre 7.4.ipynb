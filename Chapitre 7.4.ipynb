{
 "cells": [
  {
   "cell_type": "code",
   "execution_count": 2,
   "metadata": {},
   "outputs": [
    {
     "data": {
      "text/html": [
       "        <script type=\"text/javascript\">\n",
       "        window.PlotlyConfig = {MathJaxConfig: 'local'};\n",
       "        if (window.MathJax) {MathJax.Hub.Config({SVG: {font: \"STIX-Web\"}});}\n",
       "        if (typeof require !== 'undefined') {\n",
       "        require.undef(\"plotly\");\n",
       "        requirejs.config({\n",
       "            paths: {\n",
       "                'plotly': ['https://cdn.plot.ly/plotly-latest.min']\n",
       "            }\n",
       "        });\n",
       "        require(['plotly'], function(Plotly) {\n",
       "            window._Plotly = Plotly;\n",
       "        });\n",
       "        }\n",
       "        </script>\n",
       "        "
      ]
     },
     "metadata": {},
     "output_type": "display_data"
    }
   ],
   "source": [
    "import numpy as np\n",
    "import sympy as sp\n",
    "import sys, os \n",
    "from Ch7Functions import *\n",
    "from IPython.display import display, Latex"
   ]
  },
  {
   "cell_type": "markdown",
   "metadata": {},
   "source": [
    "# Le déterminant d'un produit\n",
    "\n",
    "Soit $A$ et $B$ sont deux matrices carrées de taille $ n  \\times n$, le déterminant de $AB$ est le produit des déterminants de $A$ et $B$.\n",
    "$$\\det AB = (\\det A)(\\det B) $$\n",
    "\n",
    "Cependant, ceci n'est pas le cas pour l'addition ou la soustraction de matrices. En générale, $$ \\det (A \\pm B) \\neq \\det A \\pm \\det B $$\n",
    "\n"
   ]
  },
  {
   "cell_type": "markdown",
   "metadata": {},
   "source": [
    "Soit $A$ est une matrice de taille $n \\times n$ et $A$ est inversible, le déterminant de $A^-1$ est:\n",
    "$$\\det A^{-1} = \\frac{1}{\\det A} $$"
   ]
  },
  {
   "cell_type": "markdown",
   "metadata": {},
   "source": [
    "Soit $A$ et $B$ sont deux matrices semblables de taille $n \\times n$. Le déterminant de $A$ est égal au déterminant de $B$.\n",
    "$$\\det A = \\det B$$"
   ]
  },
  {
   "cell_type": "markdown",
   "metadata": {},
   "source": [
    "---\n",
    "En utilisant ces régles ci en haut, trouvez le déterminant de $C$.\n",
    "$$C = B A^{-1}$$\n",
    "\n",
    "$$ A = \\left[ \\begin{matrix} \n",
    "        3 & -2 & 7   \\\\\n",
    "        1 & -1 & 4   \\\\\n",
    "        2 & 5  & -6  \\\\\n",
    "       \\end{matrix} \\right]$$\n",
    "       \n",
    "$$B = \\left[ \\begin{matrix} \n",
    "           4 & -3 & 0 \\\\\n",
    "           9 & -4 & -1 \\\\\n",
    "           -7 & 1 & 1 \\\\\n",
    "       \\end{matrix} \\right]$$"
   ]
  },
  {
   "cell_type": "code",
   "execution_count": 5,
   "metadata": {},
   "outputs": [
    {
     "data": {
      "text/plain": [
       "'La solution est donnée ci desous.'"
      ]
     },
     "metadata": {},
     "output_type": "display_data"
    },
    {
     "data": {
      "text/latex": [
       "$\\left|\\begin{matrix}3 & -2 & 7\\\\1 & -1 & 4\\\\2 & 5 & -6\\end{matrix}\\right| = 3\\left|\\begin{matrix}-1 & 4\\\\5 & -6\\end{matrix}\\right|--2\\left|\\begin{matrix}1 & 4\\\\2 & -6\\end{matrix}\\right|+7\\left|\\begin{matrix}1 & -1\\\\2 & 5\\end{matrix}\\right|$"
      ],
      "text/plain": [
       "<IPython.core.display.Latex object>"
      ]
     },
     "metadata": {},
     "output_type": "display_data"
    },
    {
     "data": {
      "text/latex": [
       "$\\left|\\begin{matrix}3 & -2 & 7\\\\1 & -1 & 4\\\\2 & 5 & -6\\end{matrix}\\right| = 3\\cdot (-14)--2\\cdot (-14)+7\\cdot (7)$"
      ],
      "text/plain": [
       "<IPython.core.display.Latex object>"
      ]
     },
     "metadata": {},
     "output_type": "display_data"
    },
    {
     "data": {
      "text/latex": [
       "$\\left|\\begin{matrix}3 & -2 & 7\\\\1 & -1 & 4\\\\2 & 5 & -6\\end{matrix}\\right| = -21$"
      ],
      "text/plain": [
       "<IPython.core.display.Latex object>"
      ]
     },
     "metadata": {},
     "output_type": "display_data"
    },
    {
     "data": {
      "text/latex": [
       "$\\left|\\begin{matrix}4 & -3 & 0\\\\9 & -4 & -1\\\\-7 & 1 & 1\\end{matrix}\\right| = 4\\left|\\begin{matrix}-4 & -1\\\\1 & 1\\end{matrix}\\right|--3\\left|\\begin{matrix}9 & -1\\\\-7 & 1\\end{matrix}\\right|+0\\left|\\begin{matrix}9 & -4\\\\-7 & 1\\end{matrix}\\right|$"
      ],
      "text/plain": [
       "<IPython.core.display.Latex object>"
      ]
     },
     "metadata": {},
     "output_type": "display_data"
    },
    {
     "data": {
      "text/latex": [
       "$\\left|\\begin{matrix}4 & -3 & 0\\\\9 & -4 & -1\\\\-7 & 1 & 1\\end{matrix}\\right| = 4\\cdot (-3)--3\\cdot (2)+0\\cdot (-19)$"
      ],
      "text/plain": [
       "<IPython.core.display.Latex object>"
      ]
     },
     "metadata": {},
     "output_type": "display_data"
    },
    {
     "data": {
      "text/latex": [
       "$\\left|\\begin{matrix}4 & -3 & 0\\\\9 & -4 & -1\\\\-7 & 1 & 1\\end{matrix}\\right| = -6$"
      ],
      "text/plain": [
       "<IPython.core.display.Latex object>"
      ]
     },
     "metadata": {},
     "output_type": "display_data"
    },
    {
     "data": {
      "text/latex": [
       "$$ \\det C = \\det B \\det A^{-1} = \\det B \\left( \\frac{1}{\\det A} \\right) = \\frac{\\det B}{\\det A} = \\frac{-6}{-21} = \\frac{2}{7} $$"
      ],
      "text/plain": [
       "<IPython.core.display.Latex object>"
      ]
     },
     "metadata": {},
     "output_type": "display_data"
    }
   ],
   "source": [
    "# Écrivez votre réponse ici avec 3 décimales;\n",
    "reponse = 0\n",
    "\n",
    "\n",
    "question7_4_solution(reponse)"
   ]
  }
 ],
 "metadata": {
  "kernelspec": {
   "display_name": "Python 3",
   "language": "python",
   "name": "python3"
  },
  "language_info": {
   "codemirror_mode": {
    "name": "ipython",
    "version": 3
   },
   "file_extension": ".py",
   "mimetype": "text/x-python",
   "name": "python",
   "nbconvert_exporter": "python",
   "pygments_lexer": "ipython3",
   "version": "3.7.6"
  }
 },
 "nbformat": 4,
 "nbformat_minor": 4
}
