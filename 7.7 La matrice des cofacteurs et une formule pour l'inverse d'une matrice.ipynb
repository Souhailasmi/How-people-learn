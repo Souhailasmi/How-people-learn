{
 "cells": [
  {
   "cell_type": "code",
   "execution_count": 2,
   "metadata": {},
   "outputs": [],
   "source": [
    "import numpy as np\n",
    "import sympy as sp\n",
    "from IPython.display import display, Latex"
   ]
  },
  {
   "cell_type": "markdown",
   "metadata": {},
   "source": [
    "### RAPPEL:\n",
    "Soit $A=(a_{ij})\\in M_{n\\times n}(\\mathbb{R})$ une matrice de taille $n\\times n$ à coefficients réels. Pour $1\\leq i,j\\leq n,$ on définit $\\hat{A}_{ij}$ comme étant la matrice de taille $(n-1)\\times (n-1)$ obtenue en supprimant dans $A$ la $i$-ème ligne et la $j$-ème colonne. \n",
    "\n",
    "### DÉFINITION:\n",
    "Soit $A=(a_{ij})\\in M_{n\\times n}(\\mathbb{R})$ une matrice de taille $n\\times n$ à coefficients réels. La matrice des cofacteurs de $A$  est la matrice $\\mbox{cof} A\\in M_{n \\times n}(\\mathbb{R})$ de taille $(n-1)\\times (n-1)$ définie par\n",
    "$$(\\mbox{cof}A)_{ij}=(-1)^{i+j}\\mbox{det}\\hat{A}_{ij}=C_{ij}$$\n",
    "\n",
    "\n",
    "### THÉORÈME:\n",
    "Soit $A=(a_{ij})\\in M_{n\\times n}(\\mathbb{R})$ une matrice inversible. Alors\n",
    "$$A^{-1} = \\dfrac{1}{\\mbox{det}A}\\cdot (\\mbox{cof}A)^T$$\n",
    "\n"
   ]
  },
  {
   "cell_type": "code",
   "execution_count": 3,
   "metadata": {
    "hide_input": true,
    "jupyter": {
     "source_hidden": true
    }
   },
   "outputs": [],
   "source": [
    "def red_matrix(A, i, j):\n",
    "    \"\"\" Return reduced matrix (without row i and col j)\"\"\"\n",
    "    row = [0, 1, 2]\n",
    "    col = [0, 1, 2]\n",
    "    row.remove(i-1)\n",
    "    col.remove(j-1)\n",
    "    return A[row, col]\n",
    "\n",
    "\n",
    "def pl_mi(i,j, first=False):\n",
    "    \"\"\" Return '+', '-' depending on row and col index\"\"\"\n",
    "    if (-1)**(i+j)>0:\n",
    "        if first:\n",
    "            return \"\"\n",
    "        else:\n",
    "            return \"+\"\n",
    "    else:\n",
    "        return \"-\"\n",
    "    \n",
    "def brackets(expr):\n",
    "    \"\"\"Takes a sympy expression, determine if it needs parenthesis and returns a string containing latex of expr\n",
    "    with or without the parenthesis.\"\"\"\n",
    "    expr_latex = sp.latex(expr)\n",
    "    if '+' in expr_latex or '-' in expr_latex:\n",
    "        return \"(\" + expr_latex + \")\"\n",
    "    else:\n",
    "        return expr_latex\n",
    "\n",
    "    \n",
    "def find_inverse_3x3(A):\n",
    "    \"\"\"\n",
    "    Step by step computation of the determinant of a 3x3 sympy matrix strating with given row/col number\n",
    "    :param A: 3 by 3 sympy matrix \n",
    "    :param step_by_step: Boolean, True: print step by step derivation of det, False: print only determinant \n",
    "    :param row: True to compute determinant from row n, False to compute determinant from col n\n",
    "    :param n: row or col number to compute the determinant from (int between 1 and 3)\n",
    "    :return: display step by step solution for \n",
    "    \"\"\"\n",
    "    if A.shape!=(3,3):\n",
    "        raise ValueError('Dimension of matrix A should be 3x3. The input A must be a sp.Matrix of shape (3,3).')\n",
    "    if A.det() == 0:\n",
    "        display(Latex(\"$\\det A=0.$\" +\" So the matrix $A$ is is singular and the inverse of $A$ does not exist.\" ))\n",
    "    else:\n",
    "        sub_matrix=[]\n",
    "        pl=[]\n",
    "        cofactor=[]\n",
    "        cofactor_o=[]\n",
    "        sub_matrix_latex=[]\n",
    "        cof_matrix =sp.Matrix([[1,1,1],[1,1,1],[1,1,1]]) \n",
    "        # Construc string for determinant of matrix A\n",
    "        detA_s = sp.latex(A).replace('[','|').replace(']','|')\n",
    "        for i in range(3):\n",
    "            for j in range(3):\n",
    "                sub_matrix.append(red_matrix(A, i+1, j+1))\n",
    "                pl.append( (-1)**(i+j+2))\n",
    "        for i in range(len(pl)):\n",
    "            cofactor.append(sp.latex(pl[i]*sp.simplify(sp.det(sub_matrix[i]))))\n",
    "            cofactor_o.append(pl[i]*sp.simplify(sp.det(sub_matrix[i])))\n",
    "            sub_matrix_latex.append(sp.latex(sub_matrix[i]).replace('[','|').replace(']','|'))\n",
    "        for i in range(3):\n",
    "            for j in range(3):\n",
    "                 cof_matrix[i,j]=cofactor_o[i*3+j]\n",
    "        cof_matrix_t=cof_matrix.T\n",
    "        A1 = red_matrix(A, 1, 1)\n",
    "        A2 = red_matrix(A, 1, 2)\n",
    "        A3 = red_matrix(A, 1, 3)\n",
    "        detA1_s = sp.latex(A1).replace('[','|').replace(']','|')\n",
    "        detA2_s = sp.latex(A2).replace('[','|').replace(']','|')\n",
    "        detA3_s = sp.latex(A3).replace('[','|').replace(']','|')\n",
    "        c12 = sp.simplify(sp.det(A2))*(-1)\n",
    "\n",
    "        line0 = \"$\\mathbf{Solution:}$ The corresponding nine cofactors are\"\n",
    "        line1 = \"$\" + \"C_{11}\" + ' = ' + pl_mi(1,1, True) +  sub_matrix_latex[0]  + ' = ' + cofactor[0] +  \"\\qquad \" +\\\n",
    "                 \"C_{12}\" + ' = ' + pl_mi(1,2) + sub_matrix_latex[1]  + ' = ' + cofactor[1]+  \"\\qquad \" +\\\n",
    "                 \"C_{13}\" + ' = ' + pl_mi(1,3) + sub_matrix_latex[2]  + ' = ' + cofactor[2]+ '$'\n",
    "        line2 = \"$\" + \"C_{21}\" + ' = ' + pl_mi(2,1, True) +  sub_matrix_latex[3]  + ' = ' + cofactor[3] +  \"\\qquad \" +\\\n",
    "                 \"C_{22}\" + ' = ' + pl_mi(2,2) + sub_matrix_latex[4]  + ' = ' + cofactor[4]+  \"\\qquad \" +\\\n",
    "                 \"C_{23}\" + ' = ' + pl_mi(2,3) + sub_matrix_latex[5]  + ' = ' + cofactor[5]+ '$'\n",
    "        line3 = \"$\" + \"C_{31}\" + ' = ' + pl_mi(3,1, True) +  sub_matrix_latex[6]  + ' = ' + cofactor[6] +  \"\\qquad \" +\\\n",
    "                 \"C_{32}\" + ' = ' + pl_mi(3,2) + sub_matrix_latex[7]  + ' = ' + cofactor[7]+  \"\\qquad \" +\\\n",
    "                 \"C_{33}\" + ' = ' + pl_mi(3,3) + sub_matrix_latex[8]  + ' = ' + cofactor[8]+ '$'\n",
    "        line4 =\"Then we can get the adjugate matrix that is the transpose of the matrix of cofactors. For instance, $C_{13}$ goes \\\n",
    "                 in the $(3,1)$ position of the adjugate matrix.\"\n",
    "        line5 = '$'+\"\\mbox{adj} A\" + ' = ' + \"(\\mbox{cof} A)^T\" + ' = ' + sp.latex(cof_matrix_t) + '$'\n",
    "        line6 = \"Next, we can compute $det\\ A$\"\n",
    "        line7 = \"$ \\mbox{det} A=\" + detA_s + \"=\" + sp.latex(sp.simplify(sp.det(A))) + '$'\n",
    "        line8 = \"Finally, We can get the inverse of the matrix $A$ by the theorem mentioned above.\"\n",
    "        line9 = '$'+\"A^{-1}\" + ' = ' + \"\\dfrac{{1}}{{\\mbox{det} A}}\"+\"\\cdot \"+\" \\mbox{adj} A\" + ' = ' \\\n",
    "                 +\"\\dfrac{1}\"+\"{{{}}}\".format(sp.simplify(sp.det(A)))+\"\\cdot \"+sp.latex(cof_matrix_t)+\"=\"+ sp.latex(sp.simplify(sp.det(A))**(-1)*cof_matrix_t) + '$'\n",
    "        # Display step by step computation of determinant\n",
    "        display(Latex(line0))\n",
    "        display(Latex(line1))\n",
    "        display(Latex(line2))\n",
    "        display(Latex(line3))\n",
    "        display(Latex(line4))\n",
    "        display(Latex(line5))\n",
    "        display(Latex(line6))\n",
    "        display(Latex(line7))\n",
    "        display(Latex(line8))\n",
    "        display(Latex(line9))\n",
    "\n"
   ]
  },
  {
   "cell_type": "markdown",
   "metadata": {},
   "source": [
    "\n",
    "#### Exercise : Find the inverse of the matrix  $A_{3 \\times 3}$.\n"
   ]
  },
  {
   "cell_type": "code",
   "execution_count": 4,
   "metadata": {},
   "outputs": [
    {
     "data": {
      "text/latex": [
       "$\\mathbf{Solution:}$ The corresponding nine cofactors are"
      ],
      "text/plain": [
       "<IPython.core.display.Latex object>"
      ]
     },
     "metadata": {},
     "output_type": "display_data"
    },
    {
     "data": {
      "text/latex": [
       "$C_{11} = \\left|\\begin{matrix}-1 & 1\\\\1 & -2\\end{matrix}\\right| = 1\\qquad C_{12} = -\\left|\\begin{matrix}1 & 1\\\\-1 & -2\\end{matrix}\\right| = 1\\qquad C_{13} = +\\left|\\begin{matrix}1 & -1\\\\-1 & 1\\end{matrix}\\right| = 0$"
      ],
      "text/plain": [
       "<IPython.core.display.Latex object>"
      ]
     },
     "metadata": {},
     "output_type": "display_data"
    },
    {
     "data": {
      "text/latex": [
       "$C_{21} = -\\left|\\begin{matrix}1 & 1\\\\1 & -2\\end{matrix}\\right| = 3\\qquad C_{22} = +\\left|\\begin{matrix}2 & 1\\\\-1 & -2\\end{matrix}\\right| = -3\\qquad C_{23} = -\\left|\\begin{matrix}2 & 1\\\\-1 & 1\\end{matrix}\\right| = -3$"
      ],
      "text/plain": [
       "<IPython.core.display.Latex object>"
      ]
     },
     "metadata": {},
     "output_type": "display_data"
    },
    {
     "data": {
      "text/latex": [
       "$C_{31} = \\left|\\begin{matrix}1 & 1\\\\-1 & 1\\end{matrix}\\right| = 2\\qquad C_{32} = -\\left|\\begin{matrix}2 & 1\\\\1 & 1\\end{matrix}\\right| = -1\\qquad C_{33} = +\\left|\\begin{matrix}2 & 1\\\\1 & -1\\end{matrix}\\right| = -3$"
      ],
      "text/plain": [
       "<IPython.core.display.Latex object>"
      ]
     },
     "metadata": {},
     "output_type": "display_data"
    },
    {
     "data": {
      "text/latex": [
       "Then we can get the adjugate matrix that is the transpose of the matrix of cofactors. For instance, $C_{13}$ goes                  in the $(3,1)$ position of the adjugate matrix."
      ],
      "text/plain": [
       "<IPython.core.display.Latex object>"
      ]
     },
     "metadata": {},
     "output_type": "display_data"
    },
    {
     "data": {
      "text/latex": [
       "$\\mbox{adj} A = (\\mbox{cof} A)^T = \\left[\\begin{matrix}1 & 3 & 2\\\\1 & -3 & -1\\\\0 & -3 & -3\\end{matrix}\\right]$"
      ],
      "text/plain": [
       "<IPython.core.display.Latex object>"
      ]
     },
     "metadata": {},
     "output_type": "display_data"
    },
    {
     "data": {
      "text/latex": [
       "Next, we can compute $det\\ A$"
      ],
      "text/plain": [
       "<IPython.core.display.Latex object>"
      ]
     },
     "metadata": {},
     "output_type": "display_data"
    },
    {
     "data": {
      "text/latex": [
       "$ \\mbox{det} A=\\left|\\begin{matrix}2 & 1 & 1\\\\1 & -1 & 1\\\\-1 & 1 & -2\\end{matrix}\\right|=3$"
      ],
      "text/plain": [
       "<IPython.core.display.Latex object>"
      ]
     },
     "metadata": {},
     "output_type": "display_data"
    },
    {
     "data": {
      "text/latex": [
       "Finally, We can get the inverse of the matrix $A$ by the theorem mentioned above."
      ],
      "text/plain": [
       "<IPython.core.display.Latex object>"
      ]
     },
     "metadata": {},
     "output_type": "display_data"
    },
    {
     "data": {
      "text/latex": [
       "$A^{-1} = \\dfrac{{1}}{{\\mbox{det} A}}\\cdot  \\mbox{adj} A = \\dfrac{1}{3}\\cdot \\left[\\begin{matrix}1 & 3 & 2\\\\1 & -3 & -1\\\\0 & -3 & -3\\end{matrix}\\right]=\\left[\\begin{matrix}\\frac{1}{3} & 1 & \\frac{2}{3}\\\\\\frac{1}{3} & -1 & - \\frac{1}{3}\\\\0 & -1 & -1\\end{matrix}\\right]$"
      ],
      "text/plain": [
       "<IPython.core.display.Latex object>"
      ]
     },
     "metadata": {},
     "output_type": "display_data"
    }
   ],
   "source": [
    "A = sp.Matrix([[2,1,1],[1,-1,1],[-1,1,-2]])\n",
    "find_inverse_3x3(A)"
   ]
  },
  {
   "cell_type": "code",
   "execution_count": null,
   "metadata": {},
   "outputs": [],
   "source": []
  }
 ],
 "metadata": {
  "kernelspec": {
   "display_name": "Python 3",
   "language": "python",
   "name": "python3"
  },
  "language_info": {
   "codemirror_mode": {
    "name": "ipython",
    "version": 3
   },
   "file_extension": ".py",
   "mimetype": "text/x-python",
   "name": "python",
   "nbconvert_exporter": "python",
   "pygments_lexer": "ipython3",
   "version": "3.7.4"
  }
 },
 "nbformat": 4,
 "nbformat_minor": 4
}
