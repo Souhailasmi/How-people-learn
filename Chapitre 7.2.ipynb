{
 "cells": [
  {
   "cell_type": "code",
   "execution_count": null,
   "metadata": {},
   "outputs": [],
   "source": [
    "import numpy as np\n",
    "import sympy as sp\n",
    "import sys, os \n",
    "from Ch7Functions import *\n",
    "from IPython.display import display, Latex"
   ]
  },
  {
   "cell_type": "markdown",
   "metadata": {},
   "source": [
    "# Les charactéristiques des déterminants\n",
    "\n",
    "Dans ce Jupyter Notebook, on va explorer les charactéristiques des déterminants et comment elles peuvent aider à calculer les determinants"
   ]
  },
  {
   "cell_type": "markdown",
   "metadata": {},
   "source": [
    "## Notation\n",
    "\n",
    "En générale, la notation de lignes droites autour des matrices veut dire qu'on prend le déterminant. \n",
    "$$\\det \\left(\\begin{matrix} a & b \\\\ c & d \\end{matrix}\\right) = \\left|\\begin{matrix} a & b \\\\ c & d \\end{matrix}\\right|\n",
    "$$"
   ]
  },
  {
   "cell_type": "markdown",
   "metadata": {},
   "source": [
    "### Matrices Triangulaire\n",
    "\n",
    "Si $A$ est une matrice triangulaire, le déterminant est le produit du diagonal principal de $A$.\n",
    "\n",
    "$$ A = \\left| \\begin{matrix} \n",
    "        a_{11} & a_{12} & a_{13} & a_{14} \\\\\n",
    "        0      & a_{22} & a_{23} & a_{24} \\\\\n",
    "        0      & 0      & a_{33} & a_{34} \\\\\n",
    "        0      & 0      & 0      & a_{44}\n",
    "       \\end{matrix} \\right| \n",
    "       = a_{11}a_{22}a_{33}a_{44}\n",
    "       $$\n",
    "       \n",
    "\n",
    "---"
   ]
  },
  {
   "cell_type": "markdown",
   "metadata": {},
   "source": [
    "### Opérations des rangées\n"
   ]
  },
  {
   "cell_type": "markdown",
   "metadata": {},
   "source": [
    "Soit $A$ est une matrice carrée \n",
    "\n",
    "Si un multiple d'une rangée de $A$ est ajouté à une autre ligne pour faire la matrice $B$, le déterminant de $B$ est égal au déterminant de $A$\n",
    "$$ \\det B = \\det A $$\n",
    "\n",
    "\n",
    "Si deux rangées de $A$ sont échangées pour faire $B$, le déterminant de $B$ est égal au négatif du déterminant de $A$\n",
    "$$ \\det B = -\\det A $$\n",
    "\n",
    "\n",
    "Si une rangée de $A$ est multipliée par $\\textit{k}$ pour faire $B$, le déterminant de $B$ est le déterminant de $A$ multiplié par $\\textit{k}$.\n",
    "$$ \\det B = \\textit{k} \\cdot \\det A $$\n",
    "\n",
    "---"
   ]
  },
  {
   "cell_type": "markdown",
   "metadata": {},
   "source": [
    "### Inversibilité\n",
    "\n",
    "Si une matrice carrée $A$ est invertible, son déterminant ne peut pas être égal à zéro. $$ (\\det A \\neq 0) $$\n",
    "\n",
    "---\n"
   ]
  },
  {
   "cell_type": "markdown",
   "metadata": {},
   "source": [
    "### Transposées\n",
    "\n",
    "Si $A$ est une $n \\times n$ matrice (carrée), soit $ \\det A^T = \\det A $\n",
    "\n",
    "---"
   ]
  },
  {
   "cell_type": "markdown",
   "metadata": {},
   "source": [
    "##### Exemple\n",
    "\n",
    "En premier, calculez le déterminant de A.\n",
    "\n",
    "$$ A =  \\left[\\begin{matrix}4 & 6 & -3\\\\-1 & 2 & 3\\\\4 & -5 & 1\\end{matrix}\\right] $$\n",
    "\n",
    "Avec ce résultat, qu’est-ce que sont les déterminants suivants?\n",
    "\n",
    "$$ \\mbox{a)} \\hspace{3mm} a = \\left[\n",
    "                    \\begin{matrix} 4 & -1 & 4\\\\\n",
    "                                   6 & 2 & -5\\\\\n",
    "                                   -3 & 3 & 1\\end{matrix}\\right] \\hspace{20mm} \n",
    "   \\mbox{b)} \\hspace{3mm} b = \\left[\n",
    "                   \\begin{matrix}  4 & 6 & -3\\\\\n",
    "                                  7 & 14 & -3\\\\\n",
    "                                   4 & -5 & 1\\end{matrix}\\right] \\hspace{20mm} \n",
    "\\mbox{c)} \\hspace{3mm} c =  \\left[\n",
    "                    \\begin{matrix}4 & 6 & -3\\\\\n",
    "                    -4 & 8 & 12\\\\\n",
    "                    -4 & 5 & -1\\end{matrix}\\right] $$\n",
    "                    \n",
    "$$ \\mbox{d)} \\hspace{3mm} d =  \\left[\n",
    "                    \\begin{matrix} 4 & 6 & -3\\\\\n",
    "                                   -1 & 2 & 3\\\\\n",
    "                                   -8 & 10 & -2\\end{matrix}\\right] \\hspace{20mm} \n",
    "   \\mbox{e)} \\hspace{3mm} e =  \\left[\n",
    "                   \\begin{matrix}  -1 & 2 & 3\\\\\n",
    "                                  4 & 6 & -3\\\\\n",
    "                                   0 & -11 & 4\\end{matrix}\\right] \\hspace{20mm} \n",
    "\\mbox{f)} \\hspace{3mm} f = \\left[\n",
    "                    \\begin{matrix}4 & -5 & 8\\\\\n",
    "                    6 & 10 & 1\\\\\n",
    "                    -3 & 15 & -2\\end{matrix}\\right] $$"
   ]
  },
  {
   "cell_type": "code",
   "execution_count": null,
   "metadata": {},
   "outputs": [],
   "source": [
    "# Écrivez votre réponse pour le déterminant de la matrice A ici: (C'est un nombre entier, e.g. -1,3, -382, 137, 282, etc)\n",
    "# Remplacez le zéro\n",
    "reponse_2 = 0 "
   ]
  },
  {
   "cell_type": "code",
   "execution_count": null,
   "metadata": {},
   "outputs": [],
   "source": [
    "question7_2(reponse_2)"
   ]
  },
  {
   "cell_type": "code",
   "execution_count": null,
   "metadata": {},
   "outputs": [],
   "source": [
    "# Écrivez vos réponses pour les question a-f ci dessous. (Remplacez les zéros)\n",
    "reponse_2a = 0\n",
    "reponse_2b = 155\n",
    "reponse_2c = 0\n",
    "reponse_2d = 0\n",
    "reponse_2e = 0\n",
    "reponse_2f = 0"
   ]
  },
  {
   "cell_type": "markdown",
   "metadata": {},
   "source": [
    "Les fonctions ci-dessous peuvent être utilisées pour vérifier vos réponses"
   ]
  },
  {
   "cell_type": "code",
   "execution_count": null,
   "metadata": {},
   "outputs": [],
   "source": [
    "question7_2a(reponse_2a)"
   ]
  },
  {
   "cell_type": "code",
   "execution_count": null,
   "metadata": {},
   "outputs": [],
   "source": [
    "question7_2b(reponse_2b)"
   ]
  },
  {
   "cell_type": "code",
   "execution_count": null,
   "metadata": {},
   "outputs": [],
   "source": [
    "question7_2c(reponse_2c)"
   ]
  },
  {
   "cell_type": "code",
   "execution_count": null,
   "metadata": {},
   "outputs": [],
   "source": [
    "question7_2d(reponse_2d)"
   ]
  },
  {
   "cell_type": "code",
   "execution_count": null,
   "metadata": {},
   "outputs": [],
   "source": [
    "question7_2e(reponse_2e)"
   ]
  },
  {
   "cell_type": "code",
   "execution_count": null,
   "metadata": {},
   "outputs": [],
   "source": [
    "question7_2f(reponse_2f)"
   ]
  },
  {
   "cell_type": "code",
   "execution_count": null,
   "metadata": {},
   "outputs": [],
   "source": []
  }
 ],
 "metadata": {
  "kernelspec": {
   "display_name": "Python 3",
   "language": "python",
   "name": "python3"
  },
  "language_info": {
   "codemirror_mode": {
    "name": "ipython",
    "version": 3
   },
   "file_extension": ".py",
   "mimetype": "text/x-python",
   "name": "python",
   "nbconvert_exporter": "python",
   "pygments_lexer": "ipython3",
   "version": "3.7.6"
  }
 },
 "nbformat": 4,
 "nbformat_minor": 4
}
