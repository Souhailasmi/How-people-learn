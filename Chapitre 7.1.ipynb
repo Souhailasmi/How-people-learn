{
 "cells": [
  {
   "cell_type": "code",
   "execution_count": null,
   "metadata": {},
   "outputs": [],
   "source": [
    "import numpy as np\n",
    "import sympy as sp\n",
    "import sys, os \n",
    "from Ch7Functions import *\n",
    "from IPython.display import display, Latex\n",
    "from sympy import S"
   ]
  },
  {
   "cell_type": "markdown",
   "metadata": {},
   "source": [
    "### Définition du déterminant\n",
    "Soit $A=(a_{ij})\\in M_{n \\times n}(\\mathbb{R})$ une matrice de taille $n \\times n$ à coefficients réels. Pour $1\\leq i,j\\leq n,$ on définit $\\hat{A}_{ij}$ comme étant la matrice de taille $(n-1) \\times (n-1)$ obtenue en supprimant dans $A$ la $i$-ème ligne et la $j$-ème colonne. Le déterminant de $A$ est le nombre réel défini récursivement par  \n",
    "$$\\det A = a_{11} \\det \\hat{A}_{11} - a_{12}\\det \\hat{A}_{12} + \\cdots + (-1)^{n+1} a_{1n}\\det \\hat{A}_{1n} $$\n",
    "où $\\det (a)=a$ pour tout $(a)\\in M_{1 \\times 1}(\\mathbb{R}).$"
   ]
  },
  {
   "cell_type": "markdown",
   "metadata": {},
   "source": [
    "### Exemple 1: Application de la définition à une matrice 2x2\n",
    "\n",
    "Soit $A= \\left[\\begin{matrix}a & b\\\\ c & d \\end{matrix}\\right]$\n",
    "\n",
    "On utilise la définition ci-dessus pour trouver le determinant:\n",
    "\n",
    "$$ \\det A = a_{11} \\det \\hat{A}_{11} - a_{12}\\det \\hat{A}_{12} =a  \\cdot \\det \\left[\\begin{matrix} d \\end{matrix}\\right] - b \\cdot \\det \\left[\\begin{matrix} c \\end{matrix}\\right] = ad - bc$$ \n"
   ]
  },
  {
   "cell_type": "markdown",
   "metadata": {},
   "source": [
    "### Exercice 1:  Calcul de déterminant en utilisant la définition\n",
    "\n",
    "$$ A = \\left[\\begin{matrix}1 & x & 3/4\\\\0.5 & 2.0 & 4\\\\1 & x & 43\\end{matrix}\\right] $$"
   ]
  },
  {
   "cell_type": "code",
   "execution_count": null,
   "metadata": {},
   "outputs": [],
   "source": [
    "x = sp.symbols('x')\n",
    "A = sp.Matrix([[1,x,S('3/4')], [0.5,20/10,4], [1,x**2/x,43]])\n",
    "\n",
    "Determinant_3x3(A, step_by_step = True)"
   ]
  },
  {
   "cell_type": "markdown",
   "metadata": {},
   "source": [
    "### Règle de Sarrus\n",
    "Soit $A=(a_{ij})\\in M_{3\\times 3}(\\mathbb{R})$. Alors\n",
    "\n",
    "$$\\det A=a_{11}a_{22}a_{33}+a_{12}a_{23}a_{31}+a_{13}a_{21}a_{32}-a_{13}a_{22}a_{31}-a_{11}a_{23}a_{32}-a_{12}a_{21}a_{33}$$\n",
    "\n",
    "Également\n",
    "$$\\det A=a_{11}a_{22}a_{33}+a_{12}a_{23}a_{31}+a_{13}a_{21}a_{32}- (a_{13}a_{22}a_{31} + a_{11}a_{23}a_{32} + a_{12}a_{21}a_{33})$$\n",
    "\n",
    "NB: cette règle ne peut pas être généraliser aux matrices de tailles 4x4 ou plus grands.  "
   ]
  },
  {
   "cell_type": "markdown",
   "metadata": {},
   "source": [
    "### Exercice 2: Calculs de déterminants en utilisant la règle de Sarrus\n",
    "A l'aide de la règle de Sarrus, calculez les determinants des matrices suivantes:\n",
    "\n",
    "$$ \\mbox{a)} \\hspace{3mm} \\left[\\begin{matrix}1 & x & 3/4\\\\0.5 & 2.0 & 4\\\\1 & x & 43\\end{matrix}\\right] \\hspace{20mm} \\mbox{b)} \\hspace{3mm} \\left[\\begin{matrix}1 & x & x\\\\-1/2 & 8.0 & -4\\\\x & -23 & 6\\end{matrix}\\right] \\hspace{20mm} \\mbox{c)} \\hspace{3mm} \\left[\\begin{matrix}-3.4 & 2.1 & x\\\\x & -2.7 & -11.2\\\\-0.3 & -4.5 & 12\\end{matrix}\\right]$$\n",
    "\n",
    "Dans ce premier cas, le déterminant est calculé dans les deux façons présentées. "
   ]
  },
  {
   "cell_type": "code",
   "execution_count": null,
   "metadata": {},
   "outputs": [],
   "source": [
    "A = sp.Matrix([[1,x,S('3/4')], [S('1/2'),2.0,4], [1,x,43]])\n",
    "\n",
    "Determinant_3x3(A, step_by_step = True)"
   ]
  },
  {
   "cell_type": "code",
   "execution_count": null,
   "metadata": {},
   "outputs": [],
   "source": [
    "Sarrus_3x3(A)"
   ]
  },
  {
   "cell_type": "code",
   "execution_count": null,
   "metadata": {},
   "outputs": [],
   "source": [
    "B = sp.Matrix([[1,x,x], [S('-1/2'),8.0,-4], [x,-23,6]])\n",
    "\n",
    "Sarrus_3x3(B)"
   ]
  },
  {
   "cell_type": "code",
   "execution_count": null,
   "metadata": {},
   "outputs": [],
   "source": [
    "C = sp.Matrix([[-3.4,2.1,x], [x,-2.7,-11.2], [-0.3,-4.53,12]])\n",
    "\n",
    "Sarrus_3x3(C)"
   ]
  },
  {
   "cell_type": "code",
   "execution_count": null,
   "metadata": {},
   "outputs": [],
   "source": []
  }
 ],
 "metadata": {
  "kernelspec": {
   "display_name": "Python 3",
   "language": "python",
   "name": "python3"
  },
  "language_info": {
   "codemirror_mode": {
    "name": "ipython",
    "version": 3
   },
   "file_extension": ".py",
   "mimetype": "text/x-python",
   "name": "python",
   "nbconvert_exporter": "python",
   "pygments_lexer": "ipython3",
   "version": "3.7.6"
  }
 },
 "nbformat": 4,
 "nbformat_minor": 4
}
